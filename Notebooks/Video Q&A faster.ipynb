{
 "cells": [
  {
   "cell_type": "markdown",
   "id": "5fb0239d",
   "metadata": {},
   "source": [
    "## Video Q&A"
   ]
  },
  {
   "cell_type": "code",
   "execution_count": 6,
   "id": "97d1477f",
   "metadata": {},
   "outputs": [],
   "source": [
    "from faster_whisper import WhisperModel"
   ]
  },
  {
   "cell_type": "code",
   "execution_count": 7,
   "id": "b158b4e8",
   "metadata": {},
   "outputs": [],
   "source": [
    "#Loading model\n",
    "model = WhisperModel(\n",
    "    \"base\",\n",
    "    device=\"cpu\",\n",
    "    compute_type=\"int8\"\n",
    ")"
   ]
  },
  {
   "cell_type": "code",
   "execution_count": null,
   "id": "56f79297",
   "metadata": {},
   "outputs": [
    {
     "ename": "TypeError",
     "evalue": "WhisperModel.transcribe() got an unexpected keyword argument 'verbose'",
     "output_type": "error",
     "traceback": [
      "\u001b[31m---------------------------------------------------------------------------\u001b[39m",
      "\u001b[31mTypeError\u001b[39m                                 Traceback (most recent call last)",
      "\u001b[36mCell\u001b[39m\u001b[36m \u001b[39m\u001b[32mIn[13]\u001b[39m\u001b[32m, line 2\u001b[39m\n\u001b[32m      1\u001b[39m \u001b[38;5;66;03m#Transcribing directly form video file\u001b[39;00m\n\u001b[32m----> \u001b[39m\u001b[32m2\u001b[39m segments,info = \u001b[43mmodel\u001b[49m\u001b[43m.\u001b[49m\u001b[43mtranscribe\u001b[49m\u001b[43m(\u001b[49m\n\u001b[32m      3\u001b[39m \u001b[43m    \u001b[49m\u001b[33;43m\"\u001b[39;49m\u001b[33;43mresource/python_string_method.mp4\u001b[39;49m\u001b[33;43m\"\u001b[39;49m\u001b[43m,\u001b[49m\n\u001b[32m      4\u001b[39m \u001b[43m    \u001b[49m\u001b[43mbeam_size\u001b[49m\u001b[43m=\u001b[49m\u001b[32;43m1\u001b[39;49m\u001b[43m,\u001b[49m\n\u001b[32m      5\u001b[39m \u001b[43m    \u001b[49m\u001b[43mword_timestamps\u001b[49m\u001b[43m=\u001b[49m\u001b[38;5;28;43;01mFalse\u001b[39;49;00m\u001b[43m,\u001b[49m\n\u001b[32m      6\u001b[39m \u001b[43m    \u001b[49m\u001b[43mverbose\u001b[49m\u001b[43m=\u001b[49m\u001b[38;5;28;43;01mTrue\u001b[39;49;00m\n\u001b[32m      7\u001b[39m \u001b[43m)\u001b[49m\n",
      "\u001b[31mTypeError\u001b[39m: WhisperModel.transcribe() got an unexpected keyword argument 'verbose'"
     ]
    }
   ],
   "source": [
    "#Transcribing directly form video file\n",
    "segments,info = model.transcribe(\n",
    "    \"resource/python_string_method.mp4\",\n",
    "    beam_size=1,\n",
    "    word_timestamps=False,\n",
    ")"
   ]
  },
  {
   "cell_type": "code",
   "execution_count": null,
   "id": "9dbcc87e",
   "metadata": {},
   "outputs": [],
   "source": []
  },
  {
   "cell_type": "code",
   "execution_count": null,
   "id": "eef09fba",
   "metadata": {},
   "outputs": [],
   "source": [
    "#printing the transcribed text \n",
    "transcript = \"\".join([seg.text for seg in segments])"
   ]
  },
  {
   "cell_type": "code",
   "execution_count": 10,
   "id": "275fd1d4",
   "metadata": {},
   "outputs": [
    {
     "name": "stdout",
     "output_type": "stream",
     "text": [
      " Hey everybody in this topic, I'm going to cover a few useful string methods that you may be interested in. Then at the end of this video, we will work on an exercise where we will validate some user input. As we know, a string is just a series of characters. Let's ask a user for their full name. Name equals input. Enter your full name. The first map that I'll show you, well technically this is a function. The length function will give us the length of a string. How many characters is it? We will find the length of our variable name after the user types and some input. This function returns an integer. I'll start that result within a variable. Let's just say result. Then I will print whatever the result is. Why don't you go ahead and type in your full name? The length of this string, in my example, is eight characters. That does include spaces two. One, two, three, four, five, six, seven, eight. If you ever need the length of a string, there is the length function. Let's move on. If we were to type our variable name followed by a dot, we have access to a whole bunch of different methods. We have the find method. The find method will return the first occurrence of a given character, the position. Let's find any spaces. I'll store the results within a variable named result. I will type in my full name. The first occurrence of a space, that's what we set, is at position three. When working with indexes, we always begin with zero. This first character would have an index of zero, then one, two, three. That's why the find method returned three in place of four. Let's find the first occurrence of a capital B. See, it's zero. How about, oh. For me, that would be two. So remember, it's always the first occurrence. If you need the last occurrence, there is a different method, which is R find, R meaning reverse. We will find the last occurrence of an O. That has a position of five. Zero, one, two, three, four, five. If Python isn't able to locate a given character, it will return negative one. Let's find any, I don't know, cues. Python could not find any lowercase cues. The R find method will return negative one if there are no results. We can capitalize the first letter in a string by using the capitalize function name dot capitalize. This method will return a string. I will reassign that to name. Then we will print our name capitalized. I'll be sure to type in my name all lowercase. Since this is all one string, only the first letters capitalized, even though I'm including a first and last name, the upper method will take all of the characters in a string, then make them all uppercase. Follow your variable that contains a string followed by dot upper. Then I will reassign the result to my name variable to overwrite it. Enter your full name. All of the letters are now uppercase. There is also lower to make all of the characters lowercase. Name equals name dot lower. Yep, all the characters are lowercase now. The is digit method will return either true or false if a string contains only digits. The result is a Boolean, true or false. I'll store that within a variable named result, then print result. So if I were to type in my full name is digit returns false. There are not only digits within that string. If my string was some combination of alphabetical characters and numbers, this method will still return false. It only returns true if my string only contains digits. I'll just type in 123. See, that's true. That is the is digit method. Otherwise, we have is alpha name dot is alpha. The is alpha method will return a Boolean true or false, depending if a string contains only alphabetical characters. I'll type in my full name. So the reason that this came up false is because my full name contains a space, which is not enough a medical character. If I typed in my full name, excluding any spaces, this would now be true. Is alpha would also return false if my name contained any sort of digits for a 123, and that is also false. That is the is alpha method. Now, let's ask for a phone number phone number equals input enter your phone number with the phone number. They typically contain dashes. Let's count how many dashes are going to be in somebody's phone number. Phone number dot count method. Let's count the amount of dashes. So place a character within the count method. This method will return an integer. Let's store that within a variable. Results equals phone number dot count method. So type in some phone number. 1-234-567-8901. We have three dashes within the string. 1-23. That is the count method. We can count how many characters are within a string. We also have the replace method. Honestly, the replace method is probably one of the most useful methods of strings. We can replace any occurrence with one character with another. Replace let's replace any dashes with maybe a space. This method will return a new string. I'm going to reassign this to our phone number variable. Then print the phone number into your phone number 1-234-567-8901. So here's my new phone number. But we've replaced all of the dashes with spaces. Even better yet, we could eliminate all the dashes completely by replacing the dashes or another character with an empty string. 1-234-567-8901. Here's our new phone number. Without any dashes, we've replaced all dashes with an empty string. No characters. If you would like a comprehensive list of all of the string methods available to you, you can use the help function type in the data type STR meaning string. Then I will print whatever the result is. Here's a bunch of methods you might be interested in in the future. Capitalize casefold center, count, encode, ends with just a name of you. All right, everybody. Here's an exercise for you. We will validate some user input. We would like a user to enter in a valid username. However, there's a couple of rules. The username can be no more than 12 characters long. The username must not contain any spaces. And the username must not contain any digits. Let's assign a variable named username equals input. Enter a user name. First, let's check to see if our user input is more than 12 characters long. We can do that using the length function. We will find the length of our username. The length function returns an integer. Let's check to see if the length of our username is greater than 12 characters. If it is, we'll print a message. Your username can't be more than 12 characters. Else, we will print using an F string. Welcome, whatever our username variable is. Let's try it. I'll type in my first name, last name, then add a whole bunch of characters afterwards. Your username can't be more than 12 characters. Let's type in something that's under 12 characters. Yep, and that appears to work. Okay, so we have accomplished task number one. Our username can't be more than 12 characters. Next, our username must not contain any spaces. We can use the Find method of a string. Username.find. We will find any spaces. That's a character. If no spaces are found, this method will return negative one. Using an else if statement, I'll add not. If the Find method of username equals negative one. If the result is not negative one, meaning we found a space, we will print your username can't contain spaces. I'll type in my first and last name. You might need to think of something that's underneath 12 characters. Your username can't contain spaces, so we have accomplished rule number two. Three, username must not contain digits. We can use the is alphabet of strings. The is alphabet that returns a Boolean. If a string only contains alphabetical characters, so let's copy that. I'll add another else if statement. Not. Username is alpha. Then we will print your username can't contain numbers. I guess technically is alpha would check for spaces too, but I'd rather have that be handled within a different if statement. All right, I'll type in a username. I'll include some digits. Your username can't contain numbers. All right, I think we've accomplished this. Let me make up a username following these three rules. Yep. It seems to check out. All right, everybody, and that is a few useful string methods that you may be interested in.\n"
     ]
    }
   ],
   "source": [
    "print(transcript)"
   ]
  }
 ],
 "metadata": {
  "kernelspec": {
   "display_name": ".venv",
   "language": "python",
   "name": "python3"
  },
  "language_info": {
   "codemirror_mode": {
    "name": "ipython",
    "version": 3
   },
   "file_extension": ".py",
   "mimetype": "text/x-python",
   "name": "python",
   "nbconvert_exporter": "python",
   "pygments_lexer": "ipython3",
   "version": "3.12.7"
  }
 },
 "nbformat": 4,
 "nbformat_minor": 5
}
