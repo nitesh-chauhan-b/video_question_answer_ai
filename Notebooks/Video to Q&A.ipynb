{
 "cells": [
  {
   "cell_type": "markdown",
   "id": "76c26b17",
   "metadata": {},
   "source": [
    "## Video Q&A\n"
   ]
  },
  {
   "cell_type": "code",
   "execution_count": 3,
   "id": "7ec4c925",
   "metadata": {},
   "outputs": [
    {
     "data": {
      "text/plain": [
       "True"
      ]
     },
     "execution_count": 3,
     "metadata": {},
     "output_type": "execute_result"
    }
   ],
   "source": [
    "from dotenv import load_dotenv\n",
    "load_dotenv()"
   ]
  },
  {
   "cell_type": "code",
   "execution_count": 30,
   "id": "606df707",
   "metadata": {},
   "outputs": [],
   "source": [
    "#Loading the model it it doesn't require the api key\n",
    "import whisper\n",
    "\n",
    "model = whisper.load_model(\"small\")"
   ]
  },
  {
   "cell_type": "markdown",
   "id": "d69f08cc",
   "metadata": {},
   "source": [
    "### Loading the file"
   ]
  },
  {
   "cell_type": "code",
   "execution_count": 31,
   "id": "5e6d0ce7",
   "metadata": {},
   "outputs": [],
   "source": [
    "# audio = model.transcribe(\"audio.mp3\",verbose=True,)"
   ]
  },
  {
   "cell_type": "code",
   "execution_count": 32,
   "id": "d134725e",
   "metadata": {},
   "outputs": [
    {
     "name": "stderr",
     "output_type": "stream",
     "text": [
      "ffmpeg version 6.1.1-3ubuntu5 Copyright (c) 2000-2023 the FFmpeg developers\n",
      "  built with gcc 13 (Ubuntu 13.2.0-23ubuntu3)\n",
      "  configuration: --prefix=/usr --extra-version=3ubuntu5 --toolchain=hardened --libdir=/usr/lib/x86_64-linux-gnu --incdir=/usr/include/x86_64-linux-gnu --arch=amd64 --enable-gpl --disable-stripping --disable-omx --enable-gnutls --enable-libaom --enable-libass --enable-libbs2b --enable-libcaca --enable-libcdio --enable-libcodec2 --enable-libdav1d --enable-libflite --enable-libfontconfig --enable-libfreetype --enable-libfribidi --enable-libglslang --enable-libgme --enable-libgsm --enable-libharfbuzz --enable-libmp3lame --enable-libmysofa --enable-libopenjpeg --enable-libopenmpt --enable-libopus --enable-librubberband --enable-libshine --enable-libsnappy --enable-libsoxr --enable-libspeex --enable-libtheora --enable-libtwolame --enable-libvidstab --enable-libvorbis --enable-libvpx --enable-libwebp --enable-libx265 --enable-libxml2 --enable-libxvid --enable-libzimg --enable-openal --enable-opencl --enable-opengl --disable-sndio --enable-libvpl --disable-libmfx --enable-libdc1394 --enable-libdrm --enable-libiec61883 --enable-chromaprint --enable-frei0r --enable-ladspa --enable-libbluray --enable-libjack --enable-libpulse --enable-librabbitmq --enable-librist --enable-libsrt --enable-libssh --enable-libsvtav1 --enable-libx264 --enable-libzmq --enable-libzvbi --enable-lv2 --enable-sdl2 --enable-libplacebo --enable-librav1e --enable-pocketsphinx --enable-librsvg --enable-libjxl --enable-shared\n",
      "  libavutil      58. 29.100 / 58. 29.100\n",
      "  libavcodec     60. 31.102 / 60. 31.102\n",
      "  libavformat    60. 16.100 / 60. 16.100\n",
      "  libavdevice    60.  3.100 / 60.  3.100\n",
      "  libavfilter     9. 12.100 /  9. 12.100\n",
      "  libswscale      7.  5.100 /  7.  5.100\n",
      "  libswresample   4. 12.100 /  4. 12.100\n",
      "  libpostproc    57.  3.100 / 57.  3.100\n",
      "Input #0, mov,mp4,m4a,3gp,3g2,mj2, from 'resource/python_into.mp4':\n",
      "  Metadata:\n",
      "    major_brand     : mp42\n",
      "    minor_version   : 0\n",
      "    compatible_brands: isommp42\n",
      "    creation_time   : 2022-10-27T17:23:44.000000Z\n",
      "  Duration: 00:02:12.82, start: 0.000000, bitrate: 310 kb/s\n",
      "  Stream #0:0[0x1](und): Video: h264 (Main) (avc1 / 0x31637661), yuv420p(tv, bt709, progressive), 640x360 [SAR 1:1 DAR 16:9], 179 kb/s, 30 fps, 30 tbr, 15360 tbn (default)\n",
      "    Metadata:\n",
      "      creation_time   : 2022-10-27T17:23:44.000000Z\n",
      "      handler_name    : ISO Media file produced by Google Inc. Created on: 10/27/2022.\n",
      "      vendor_id       : [0][0][0][0]\n",
      "  Stream #0:1[0x2](eng): Audio: aac (LC) (mp4a / 0x6134706D), 44100 Hz, stereo, fltp, 128 kb/s (default)\n",
      "    Metadata:\n",
      "      creation_time   : 2022-10-27T17:23:44.000000Z\n",
      "      handler_name    : ISO Media file produced by Google Inc. Created on: 10/27/2022.\n",
      "      vendor_id       : [0][0][0][0]\n",
      "Stream mapping:\n",
      "  Stream #0:1 -> #0:0 (aac (native) -> pcm_s16le (native))\n",
      "Press [q] to stop, [?] for help\n",
      "Output #0, wav, to 'resource/result_audio.wav':\n",
      "  Metadata:\n",
      "    major_brand     : mp42\n",
      "    minor_version   : 0\n",
      "    compatible_brands: isommp42\n",
      "    ISFT            : Lavf60.16.100\n",
      "  Stream #0:0(eng): Audio: pcm_s16le ([1][0][0][0] / 0x0001), 16000 Hz, mono, s16, 256 kb/s (default)\n",
      "    Metadata:\n",
      "      creation_time   : 2022-10-27T17:23:44.000000Z\n",
      "      handler_name    : ISO Media file produced by Google Inc. Created on: 10/27/2022.\n",
      "      vendor_id       : [0][0][0][0]\n",
      "      encoder         : Lavc60.31.102 pcm_s16le\n",
      "[out#0/wav @ 0x5f38afdbbf00] video:0kB audio:4151kB subtitle:0kB other streams:0kB global headers:0kB muxing overhead: 0.001835%\n",
      "size=    4151kB time=00:02:12.81 bitrate= 256.0kbits/s speed= 882x    \n"
     ]
    },
    {
     "data": {
      "text/plain": [
       "0"
      ]
     },
     "execution_count": 32,
     "metadata": {},
     "output_type": "execute_result"
    }
   ],
   "source": [
    "import os\n",
    "video_path = \"resource/python_into.mp4\"\n",
    "audio_path = \"resource/result_audio.wav\"\n",
    "\n",
    "#Getting audio from video\n",
    "\n",
    "os.system(f\"ffmpeg -y -i \\\"{video_path}\\\" -vn -acodec pcm_s16le -ar 16000 -ac 1 \\\"{audio_path}\\\"\")"
   ]
  },
  {
   "cell_type": "code",
   "execution_count": 33,
   "id": "aefc2001",
   "metadata": {},
   "outputs": [
    {
     "name": "stderr",
     "output_type": "stream",
     "text": [
      "/home/niteshchauhan/Desktop/Practice/Video Q&A/.venv/lib/python3.12/site-packages/whisper/transcribe.py:126: UserWarning: FP16 is not supported on CPU; using FP32 instead\n",
      "  warnings.warn(\"FP16 is not supported on CPU; using FP32 instead\")\n"
     ]
    },
    {
     "name": "stdout",
     "output_type": "stream",
     "text": [
      "[00:00.000 --> 00:05.000]  Let's talk about Python. What is it? How does it work? And how you can get started today?\n",
      "[00:05.000 --> 00:08.000]  All of that and more in two minutes. Start the timer.\n",
      "[00:12.000 --> 00:18.000]  Python is a prevalent general-purpose programming language often used for machine learning and data analysis.\n",
      "[00:18.000 --> 00:23.000]  Python was created by Guido van Rossum and was first released on February 20, 1991.\n",
      "[00:23.000 --> 00:27.000]  This language is so influential that in 1999 the Zen of Python was released,\n",
      "[00:27.000 --> 00:32.000]  which is a guiding set of principles for using Python in the utmost Mr. Miyagi way.\n",
      "[00:32.000 --> 00:37.000]  There are numerous reasons why this language is hotter than the Backstreet Boys were in 1997.\n",
      "[00:37.000 --> 00:41.000]  The first being that Python is very readable, like it states in the Zen of Python,\n",
      "[00:41.000 --> 00:45.000]  simple is better than complex, and that's exactly what the language mirrors.\n",
      "[00:45.000 --> 00:52.000]  Python can also handle a multitude of different jobs, from machine learning to data analytics, web development, testing, and so on.\n",
      "[00:52.000 --> 00:56.000]  There is no need to debate how great this language is. But how can we use it?\n",
      "[00:56.000 --> 01:00.000]  You can download Python on the official Getting Started with Python page.\n",
      "[01:00.000 --> 01:06.000]  Once downloaded, creating a file with Python is as easy as naming the file and ending it with .py.\n",
      "[01:06.000 --> 01:08.000]  These files are also referred to as modules.\n",
      "[01:08.000 --> 01:11.000]  Then all you need to do is print hello world and there you go.\n",
      "[01:11.000 --> 01:14.000]  You can brag to all your friends that you are the next Bill Gates.\n",
      "[01:14.000 --> 01:18.000]  You have probably heard of interpreted versus compiled, right?\n",
      "[01:18.000 --> 01:26.000]  Well, Python is an interpreted language, which means the source code is converted into byte code that is then executed by the Python virtual machine.\n",
      "[01:26.000 --> 01:34.000]  This equates to Python being extremely fast to develop, but not so fast during the execution step since the code is not directly compiled and executed.\n",
      "[01:34.000 --> 01:36.000]  But why should we learn Python?\n",
      "[01:36.000 --> 01:40.000]  Probably the most important answer to that is just how beginner-friendly the language is.\n",
      "[01:40.000 --> 01:46.000]  If you're brand new to web development, my recommendation is either learn Python or JavaScript. You can't go wrong with either.\n",
      "[01:46.000 --> 01:52.000]  As we mentioned before, Python is also extremely versatile. You can do so many different tasks with just one language.\n",
      "[01:52.000 --> 01:55.000]  Lastly, Python developers are extremely in demand.\n",
      "[01:55.000 --> 02:01.000]  There are 36,000 job postings on ZipperCruiter at this current moment for entry-level Python developers.\n",
      "[02:01.000 --> 02:10.000]  If you want to learn Python and fully master one of the most relevant languages in the world of development, check out Zero to Master is Complete Python Developer Bootcamp course.\n",
      "[02:10.000 --> 02:12.000]  Well, you'll go from beginner to expert.\n"
     ]
    }
   ],
   "source": [
    "result = model.transcribe(\"resource/result_audio.wav\",verbose=True,language=\"en\")"
   ]
  },
  {
   "cell_type": "code",
   "execution_count": 5,
   "id": "07e26736",
   "metadata": {},
   "outputs": [
    {
     "name": "stdout",
     "output_type": "stream",
     "text": [
      " Hey everybody, in this topic I'm going to cover a few useful string methods that you may be interested in. Then at the end of this video we will work on an exercise where we will validate some user input. As we know a string is just a series of characters. Let's ask a user for their full name. Name equals input. Enter your full name. The first method I'll show you. Well technically this is a function. The length function will give us the length of a string. How many characters is it? We will find the length of our variable name after the user types in some input. This function returns an integer. I'll store that result within a variable. Let's just say result. Then I will print whatever the result is. Why don't you go ahead and type in your full name. The length of this string, in my example, is 8 characters. That does include spaces too. 1, 2, 3, 4, 5, 6, 7, 8. If you ever need the length of a string, there is the length function. Let's move on. If we were to type our variable name followed by a dot, we have access to a whole bunch of different methods. We have the find method. The find method will return the first occurrence of a given character, the position. Let's find any spaces. I'll store the results within a variable named result. I will type in my full name. The first occurrence of a space, that's what we set, is at position 3. When working with indexes, we always begin with 0. This first character would have an index of 0, then 1, 2, 3. That's why the find method returned 3 in place of 4. Let's find the first occurrence of a capital B. See? It's 0. How about O? For me, that would be 2. So remember, it's always the first occurrence. If you need the last occurrence, there is a different method, which is r find. R meaning reverse. We will find the last occurrence of an O. That has a position of 5. 0, 1, 2, 3, 4, 5. If Python isn't able to locate a given character, it will return negative 1. Let's find any, I don't know, uh, queues. Python could not find any lowercase queues. The r find method will return negative 1 if there are no results. We can capitalize the first letter in a string by using the capitalize function. Name.capitalize. This method will return a string. I will reassign that to name. Then we will print our name, capitalized. I'll be sure to type in my name, all lowercase. Since this is all one string, only the first letter is capitalized. The upper method will take all of the characters in a string, then make them all uppercase. Follow your variable that contains a string, followed by .upper. Then I will reassign the result to my name variable to overwrite it. Enter your full name. Name. All of the letters are now uppercase. There is also lower to make all of the characters lowercase. Name equals name dot lowered. Yep, all the characters are lowercase now. The isDigit method will return either true or false if a string contains only digits. The result is a boolean, true or false. I'll store that within a variable named result, then print result. So if I were to type in my full name, isDigit returns false. There are not only digits within that string. If my string was some combination of alphabetical characters and numbers, this method will still return false. It only returns true if my string only contains digits. I'll just type in 123. See, that's true. That is the isDigit method. Otherwise, we have isAlpha. Name dot is alpha. The isAlpha method will return a boolean, true or false, depending if a string contains only alphabetical characters. I'll type in my full name. So the reason that this came up false is because my full name contains a space, which is not an alphabetical character. If I typed in my full name, excluding any spaces, this would now be true. IsAlpha would also return false if my name contained any sort of digits, bro123. And that is also false. So that is the isAlpha method. Now let's ask for a phone number. Phone number equals input. Enter your phone number. With the phone number, they typically contain dashes. Let's count how many dashes are going to be in somebody's phone number. Phone number dot count method. Let's count the amount of dashes. So place a character within the count method. This method will return an integer. Let's store that within a variable. Results equals phone number dot count method. So type in some phone number. 1-234-567-8901. We have three dashes within the string. 1-2-3. That is the count method. We can count how many characters are within a string. We also have the replace method. Honestly, the replace method is probably one of the most useful methods of strings. We can replace any occurrence with one character with another. Replace. Let's replace any dashes with maybe a space. This method will return a new string. I'm going to reassign this to our phone number variable. Then print the phone number. Enter your phone number. 1-234-567-8901. So here's my new phone number. But we've replaced all of the dashes with spaces. Even better yet, we could eliminate all the dashes completely. By replacing the dashes or another character with an empty string. 1-234-567-8901. Here's our new phone number. Without any dashes. We've replaced all dashes with an empty string. No characters. If you would like a comprehensive list of all of the string methods available to you, you can use the help function. Type in the data type str meaning string. Then I will print whatever the result is. Here's a bunch of methods you might be interested in in the future. Capitalize, case fold, center, count, encode, ends with, just to name a few. All right, everybody. Here's an exercise for you. We will validate some user input. We would like a user to enter in a valid username. However, there's a couple of rules. The username can be no more than 12 characters long. The username must not contain any spaces. And the username must not contain any digits. Let's assign a variable named username. Equals input. Enter a user name. First, let's check to see if our user input is more than 12 characters long. We can do that using the length function. We will find the length of our username. The length function returns an integer. Let's check to see if the length of our username is greater than 12 characters. If it is, we'll print a message. Your username can't be more than 12 characters. Else, we will print using an f string. Welcome, whatever our username variable is. Let's try it. I'll type in my first name, last name, then add a whole bunch of characters afterwards. Your username can't be more than 12 characters. Let's type in something that's under 12 characters. Yep, and that appears to work. Okay, so we have accomplished task number one. Our username can't be more than 12 characters. Next, our username must not contain any spaces. We can use the find method of a string. Username.find, we will find any spaces. That's a character. If no spaces are found, this method will return negative one. Using an else if statement, I'll add not. If the find method of username equals negative one. If the result is not negative one, meaning we found a space, we will print your username can't contain spaces. I'll type in my first and last name. You might need to think of something that's underneath 12 characters. Your username can't contain spaces, so we have accomplished rule number two. Three, username must not contain digits. If we can use the is alpha method of strings. The is alpha method returns a boolean if a string only contains alphabetical characters. So let's copy that. I'll add another else if statement. Not username is alpha. If we can use the is alpha method of strings. Then we will print your username can't contain numbers. I guess technically is alpha would check for spaces too, but I'd rather have that be handled within a different if statement. All right, I'll type in a username. I'll include some digits. Your username can't contain numbers. All right, I think we've accomplished this. Let me make up a username following these three rules. Yep. It seems to check out. All right, everybody. And that is a few useful string methods that you may be interested in.\n"
     ]
    }
   ],
   "source": [
    "#Getting the results from the file\n",
    "video_transcription = result[\"text\"]\n",
    "print(result[\"text\"])"
   ]
  },
  {
   "cell_type": "markdown",
   "id": "5912c732",
   "metadata": {},
   "source": [
    "#### Storing the test in vectored database\n"
   ]
  },
  {
   "cell_type": "code",
   "execution_count": 6,
   "id": "8c422c41",
   "metadata": {},
   "outputs": [],
   "source": [
    "from langchain.text_splitter import RecursiveCharacterTextSplitter\n",
    "\n",
    "splitter = RecursiveCharacterTextSplitter(\n",
    "    separators=[\".\",\"\\n\",\"\\n\\n\"],\n",
    "    chunk_size =1000,\n",
    "    chunk_overlap=100\n",
    ")\n",
    "\n",
    "chunks = splitter.split_text(video_transcription)\n"
   ]
  },
  {
   "cell_type": "code",
   "execution_count": 7,
   "id": "df50b330",
   "metadata": {},
   "outputs": [
    {
     "data": {
      "text/plain": [
       "9"
      ]
     },
     "execution_count": 7,
     "metadata": {},
     "output_type": "execute_result"
    }
   ],
   "source": [
    "len(chunks)"
   ]
  },
  {
   "cell_type": "markdown",
   "id": "ccbcbeea",
   "metadata": {},
   "source": [
    "### Embed chunks"
   ]
  },
  {
   "cell_type": "code",
   "execution_count": 8,
   "id": "ed2ba722",
   "metadata": {},
   "outputs": [
    {
     "name": "stderr",
     "output_type": "stream",
     "text": [
      "/tmp/ipykernel_246376/2232765168.py:3: LangChainDeprecationWarning: The class `HuggingFaceEmbeddings` was deprecated in LangChain 0.2.2 and will be removed in 1.0. An updated version of the class exists in the :class:`~langchain-huggingface package and should be used instead. To use it run `pip install -U :class:`~langchain-huggingface` and import as `from :class:`~langchain_huggingface import HuggingFaceEmbeddings``.\n",
      "  embedding = HuggingFaceEmbeddings(model_name=\"sentence-transformers/all-mpnet-base-v2\")\n",
      "/home/niteshchauhan/Desktop/Practice/Video Q&A/.venv/lib/python3.12/site-packages/tqdm/auto.py:21: TqdmWarning: IProgress not found. Please update jupyter and ipywidgets. See https://ipywidgets.readthedocs.io/en/stable/user_install.html\n",
      "  from .autonotebook import tqdm as notebook_tqdm\n"
     ]
    }
   ],
   "source": [
    "from langchain.embeddings import HuggingFaceEmbeddings\n",
    "\n",
    "embedding = HuggingFaceEmbeddings(model_name=\"sentence-transformers/all-mpnet-base-v2\")"
   ]
  },
  {
   "cell_type": "code",
   "execution_count": 9,
   "id": "6727e39d",
   "metadata": {},
   "outputs": [],
   "source": [
    "from langchain_chroma import Chroma\n",
    "\n",
    "#Loading db if it already exits\n",
    "\n",
    "db = Chroma.from_texts(chunks,embedding,collection_name=\"video_transcription\",persist_directory=\"./chroma_db\")\n"
   ]
  },
  {
   "cell_type": "code",
   "execution_count": 10,
   "id": "489d5d9b",
   "metadata": {},
   "outputs": [],
   "source": [
    "# import chromadb\n",
    "\n",
    "# persistant_client = chromadb.PersistentClient()\n",
    "\n",
    "# collection = persistant_client.get_or_create_collection(\"video_transcript\")\n",
    "\n",
    "# langchain_chroma = Chroma(\n",
    "#     client=persistant_client,\n",
    "#     collection_name=\"video_transcript\",\n",
    "#     embedding_function=embedding,\n",
    "#     persist_directory=\"./chroma_db\"\n",
    "# )\n"
   ]
  },
  {
   "cell_type": "code",
   "execution_count": 11,
   "id": "ba7b8948",
   "metadata": {},
   "outputs": [],
   "source": [
    "# langchain_chroma.aadd_texts(chunks)"
   ]
  },
  {
   "cell_type": "code",
   "execution_count": 12,
   "id": "10696402",
   "metadata": {},
   "outputs": [],
   "source": [
    "# langchain_chroma.as_retriever()"
   ]
  },
  {
   "cell_type": "code",
   "execution_count": null,
   "id": "5b699bb0",
   "metadata": {},
   "outputs": [],
   "source": [
    "\n",
    "\n",
    "#Providing it as a retriver\n",
    "retriver = db.as_retriever()"
   ]
  },
  {
   "cell_type": "markdown",
   "id": "eb96cbd9",
   "metadata": {},
   "source": [
    "### Question Answer chain"
   ]
  },
  {
   "cell_type": "code",
   "execution_count": null,
   "id": "d4b01e1b",
   "metadata": {},
   "outputs": [],
   "source": [
    "\n",
    "import os\n",
    "#Creating a question answer chain \n",
    "\n",
    "if os.path.exists(\"chroma_db\"):\n",
    "    #Reading the database\n",
    "    db = Chroma(persist_directory=\"./chroma_db\", embedding_function=embedding)\n",
    "\n",
    "retriver = db.as_retriever()\n",
    "\n",
    "\n",
    "\n"
   ]
  },
  {
   "cell_type": "code",
   "execution_count": 50,
   "id": "6fac25f2",
   "metadata": {},
   "outputs": [],
   "source": [
    "#Creating a template for getting answers\n",
    "template = \"\"\"Given the following context and a question, generate an answer based on this context only.\n",
    "    In the answer try to provide as much text as possible from \"response\" section in the source document context without making much changes.\n",
    "    If context doesn't contain answer then answer in short form about i don't know.\n",
    "    Try to give examples to explain the question better.\n",
    "\n",
    "    CONTEXT: {context}\n",
    "\n",
    "    QUESTION: {question}\n",
    "\"\"\""
   ]
  },
  {
   "cell_type": "code",
   "execution_count": 51,
   "id": "35daca83",
   "metadata": {},
   "outputs": [],
   "source": [
    "from langchain.prompts import PromptTemplate\n",
    "\n",
    "prompt = PromptTemplate(\n",
    "    input_variables=[\"context\",\"question\"],\n",
    "    template=template\n",
    ")\n",
    "\n",
    "\n"
   ]
  },
  {
   "cell_type": "code",
   "execution_count": 52,
   "id": "a151300c",
   "metadata": {},
   "outputs": [],
   "source": [
    "from langchain_groq import ChatGroq\n",
    "\n",
    "llm = ChatGroq(\n",
    "    model ='llama-3.3-70b-versatile',\n",
    "    temperature=\"0.6\",\n",
    "    \n",
    ")"
   ]
  },
  {
   "cell_type": "code",
   "execution_count": null,
   "id": "289fa5da",
   "metadata": {},
   "outputs": [],
   "source": [
    "from langchain.chains import RetrievalQA\n",
    "\n",
    "#Creating a question answer chain \n",
    "chain = RetrievalQA.from_chain_type(\n",
    "        llm=llm,\n",
    "        chain_type=\"stuff\",\n",
    "        retriever=retriver,\n",
    "        input_key=\"query\",\n",
    "        return_source_documents=True,\n",
    "        chain_type_kwargs={\"prompt\": prompt}\n",
    ")"
   ]
  },
  {
   "cell_type": "code",
   "execution_count": 54,
   "id": "81812f65",
   "metadata": {},
   "outputs": [],
   "source": [
    "#Querying the text\n",
    "response = chain(\"which is the most useful method?\")"
   ]
  },
  {
   "cell_type": "code",
   "execution_count": 55,
   "id": "fdc4c633",
   "metadata": {},
   "outputs": [
    {
     "name": "stdout",
     "output_type": "stream",
     "text": [
      "I don't know. The context provided does not contain information regarding methods or their usefulness. To determine the most useful method, it would be necessary to have more specific details about the context or the task at hand. For example, in a project management scenario, the most useful method might depend on factors such as the project's size, complexity, and the team's experience. Without additional context, it's challenging to provide a definitive answer.\n"
     ]
    }
   ],
   "source": [
    "print(response[\"result\"])"
   ]
  }
 ],
 "metadata": {
  "kernelspec": {
   "display_name": ".venv",
   "language": "python",
   "name": "python3"
  },
  "language_info": {
   "codemirror_mode": {
    "name": "ipython",
    "version": 3
   },
   "file_extension": ".py",
   "mimetype": "text/x-python",
   "name": "python",
   "nbconvert_exporter": "python",
   "pygments_lexer": "ipython3",
   "version": "3.12.7"
  }
 },
 "nbformat": 4,
 "nbformat_minor": 5
}
